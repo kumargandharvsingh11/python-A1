{
 "cells": [
  {
   "cell_type": "code",
   "execution_count": null,
   "id": "0",
   "metadata": {},
   "outputs": [],
   "source": [
    "# Cell: setup\n",
    "import numpy as np\n",
    "np.__version__   # verify you have a recent NumPy (>=1.20 recommended)"
   ]
  },
  {
   "cell_type": "code",
   "execution_count": null,
   "id": "1",
   "metadata": {},
   "outputs": [],
   "source": [
    "a = np.array([0,1,2,3], dtype=np.int64)\n",
    "b = np.arange(12).reshape(3,4)   # 2D (3 rows, 4 cols)\n",
    "print(\"a:\", a, \"shape:\", a.shape, \"dtype:\", a.dtype)\n",
    "print(\"b:\\n\", b, \"\\nshape:\", b.shape, \"ndim:\", b.ndim, \"size:\", b.size)"
   ]
  },
  {
   "cell_type": "code",
   "execution_count": null,
   "id": "2",
   "metadata": {},
   "outputs": [],
   "source": [
    "print(\"b[0,1] =\", b[0,1])    # single element\n",
    "print(\"b[1]   =\", b[1])      # row (view)\n",
    "print(\"b[:, -1] =\", b[:, -1])# last column\n",
    "print(\"b[0:2, 1:3] =\\n\", b[0:2, 1:3])  # slice\n"
   ]
  },
  {
   "cell_type": "code",
   "execution_count": null,
   "id": "3",
   "metadata": {},
   "outputs": [],
   "source": [
    "x = np.arange(9)\n",
    "v = x[2:5]        # slice -> usually a VIEW\n",
    "v[0] = 999\n",
    "print(\"x after slice assign:\", x)      # x changed\n",
    "\n",
    "c = x[2:5].copy()  # explicit copy\n",
    "c[0] = -111\n",
    "print(\"x after modifying copy:\", x)    # x unchanged\n",
    "print(\"v.base is x?\", v.base is x)    # True -> v references same memory\n",
    "print(\"c.base is None?\", c.base is None) # copy has no base\n"
   ]
  },
  {
   "cell_type": "code",
   "execution_count": null,
   "id": "4",
   "metadata": {},
   "outputs": [],
   "source": [
    "B = np.arange(6).reshape(2,3)\n",
    "r = B.ravel()     # view when possible\n",
    "r[0] = 100\n",
    "print(\"B after ravel change:\\n\", B)   # mutated\n",
    "\n",
    "f = B.flatten()   # always a copy\n",
    "f[0] = -999\n",
    "print(\"B after flatten change (no change):\\n\", B)\n"
   ]
  },
  {
   "cell_type": "code",
   "execution_count": null,
   "id": "5",
   "metadata": {},
   "outputs": [],
   "source": [
    "M = np.arange(16).reshape(4,4)\n",
    "rows = np.array([0,2])\n",
    "cols = np.array([1,3])\n",
    "fancy = M[rows, cols]   # fancy -> returns a COPY\n",
    "fancy[0] = 999\n",
    "print(\"M after fancy index change (unchanged):\\n\", M)\n",
    "\n",
    "mask = (M % 2 == 0)\n",
    "even_vals = M[mask]     # 1D array of even values (copy-like)\n",
    "M[mask] = -1            # but assignment using boolean mask updates M in-place\n",
    "print(\"M after boolean mask assignment:\\n\", M)\n"
   ]
  },
  {
   "cell_type": "code",
   "execution_count": null,
   "id": "6",
   "metadata": {},
   "outputs": [],
   "source": [
    "v = np.arange(3)               # shape (3,)\n",
    "print(v[:, np.newaxis].shape)  # (3,1)\n",
    "print(v[np.newaxis, :].shape)  # (1,3)\n",
    "A = np.arange(12).reshape(3,4)\n",
    "print(\"A.T.shape:\", A.T.shape)\n",
    "print(\"swapaxes:\", np.swapaxes(A, 0, 1).shape)\n"
   ]
  },
  {
   "cell_type": "code",
   "execution_count": null,
   "id": "7",
   "metadata": {},
   "outputs": [],
   "source": []
  }
 ],
 "metadata": {
  "kernelspec": {
   "display_name": "Python 3 (ipykernel)",
   "language": "python",
   "name": "python3"
  },
  "language_info": {
   "codemirror_mode": {
    "name": "ipython",
    "version": 3
   },
   "file_extension": ".py",
   "mimetype": "text/x-python",
   "name": "python",
   "nbconvert_exporter": "python",
   "pygments_lexer": "ipython3",
   "version": "3.12.3"
  }
 },
 "nbformat": 4,
 "nbformat_minor": 5
}
