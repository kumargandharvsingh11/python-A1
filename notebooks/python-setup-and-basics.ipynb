{
 "cells": [
  {
   "cell_type": "markdown",
   "id": "0",
   "metadata": {},
   "source": [
    "# python-setup-and-basics\n",
    "Brief purpose: Reviewing Python fundamentals and initial data loading/analysis setup."
   ]
  },
  {
   "cell_type": "code",
   "execution_count": null,
   "id": "1",
   "metadata": {},
   "outputs": [],
   "source": [
    "# Check Python Version\n",
    "!python --version"
   ]
  },
  {
   "cell_type": "code",
   "execution_count": null,
   "id": "2",
   "metadata": {},
   "outputs": [],
   "source": [
    "import pandas as pd\n",
    "\n",
    "# create a small sample dataset\n",
    "data = {\n",
    "    \"date_col\": [\"2025-10-01\", \"2025-10-02\", \"2025-10-03\"],\n",
    "    \"colA\": [10, 20, 30],\n",
    "    \"colB\": [1.5, 2.5, 3.5],\n",
    "    \"colC\": [\"x\", \"y\", \"z\"]\n",
    "}\n",
    "\n",
    "df = pd.DataFrame(data)\n",
    "\n",
    "# save it as CSV file\n",
    "df.to_csv(\"sample_data.csv\", index=False)\n",
    "\n",
    "print(\"Sample CSV file created successfully!\")\n",
    "df.head()\n"
   ]
  },
  {
   "cell_type": "code",
   "execution_count": null,
   "id": "3",
   "metadata": {},
   "outputs": [],
   "source": [
    "# Fast I/O demo\n",
    "df_fast = pd.read_csv(\n",
    "    \"sample_data.csv\",\n",
    "    usecols=[\"date_col\", \"colA\", \"colB\"],         # load only specific columns\n",
    "    dtype={\"colA\": \"int32\"},                      # specify data type\n",
    "    parse_dates=[\"date_col\"],                     # auto-parse dates\n",
    "    low_memory=False\n",
    ")\n",
    "\n",
    "print(df_fast.shape)\n",
    "print(df_fast.dtypes)\n",
    "df_fast.head()\n"
   ]
  },
  {
   "cell_type": "code",
   "execution_count": null,
   "id": "4",
   "metadata": {},
   "outputs": [],
   "source": [
    "%timeit pd.read_csv(\"sample_data.csv\")\n",
    "%timeit pd.read_csv(\"sample_data.csv\", usecols=[\"date_col\",\"colA\",\"colB\"], dtype={\"colA\":\"int32\"}, parse_dates=[\"date_col\"], low_memory=False)"
   ]
  },
  {
   "cell_type": "code",
   "execution_count": null,
   "id": "5",
   "metadata": {},
   "outputs": [],
   "source": [
    "import pandas as pd\n",
    "\n",
    "def load_csv(path: str) -> pd.DataFrame:\n",
    "    \"\"\"\n",
    "    Load a CSV file into a cleaned pandas DataFrame.\n",
    "    \n",
    "    Steps:\n",
    "    1. Reads CSV from the given path.\n",
    "    2. Strips whitespace from column names.\n",
    "    3. Drops duplicate rows.\n",
    "    4. Prints shape and column types.\n",
    "    5. Returns the cleaned DataFrame.\n",
    "    \"\"\"\n",
    "    try:\n",
    "        df = pd.read_csv(path)\n",
    "    except FileNotFoundError:\n",
    "        print(f\"❌ File not found at path: {path}\")\n",
    "        return None\n",
    "    \n",
    "    # Clean-up operations\n",
    "    df.columns = df.columns.str.strip()  # remove whitespace in headers\n",
    "    df = df.drop_duplicates().reset_index(drop=True)\n",
    "    \n",
    "    print(f\"✅ Loaded '{path}' successfully!\")\n",
    "    print(f\"Shape: {df.shape}\")\n",
    "    print(\"Column types:\\n\", df.dtypes)\n",
    "    return df\n"
   ]
  },
  {
   "cell_type": "code",
   "execution_count": null,
   "id": "6",
   "metadata": {},
   "outputs": [],
   "source": [
    "df_test = load_csv(\"../data/sample_data.csv\")\n",
    "df_test.head()"
   ]
  },
  {
   "cell_type": "code",
   "execution_count": null,
   "id": "7",
   "metadata": {},
   "outputs": [],
   "source": [
    "# ---- Pure Python implementation ----\n",
    "def mean_py(data):\n",
    "    \"\"\"Compute mean using pure Python.\"\"\"\n",
    "    return sum(data) / len(data)\n",
    "\n",
    "def variance_py(data):\n",
    "    \"\"\"Compute variance using pure Python.\"\"\"\n",
    "    m = mean_py(data)\n",
    "    return sum((x - m) ** 2 for x in data) / len(data)\n",
    "\n",
    "# Test it\n",
    "sample_data = [10, 20, 30, 40, 50]\n",
    "print(\"Data:\", sample_data)\n",
    "print(\"Mean (Python):\", mean_py(sample_data))\n",
    "print(\"Variance (Python):\", variance_py(sample_data))\n"
   ]
  },
  {
   "cell_type": "code",
   "execution_count": null,
   "id": "8",
   "metadata": {},
   "outputs": [],
   "source": [
    "import numpy as np\n",
    "\n",
    "# ---- NumPy implementation ----\n",
    "arr = np.array(sample_data, dtype=np.float64)\n",
    "\n",
    "mean_np = np.mean(arr)\n",
    "var_np = np.var(arr)\n",
    "\n",
    "print(\"Mean (NumPy):\", mean_np)\n",
    "print(\"Variance (NumPy):\", var_np)"
   ]
  },
  {
   "cell_type": "code",
   "execution_count": null,
   "id": "9",
   "metadata": {},
   "outputs": [],
   "source": [
    "# Generate large data for timing test\n",
    "big_list = list(range(1_000_000))\n",
    "big_array = np.array(big_list, dtype=np.float64)\n",
    "\n",
    "# Compare speed using Jupyter's %timeit magic\n",
    "print(\"⏱️ Pure Python:\")\n",
    "%timeit mean_py(big_list); variance_py(big_list)\n",
    "\n",
    "print(\"\\n⚡ NumPy:\")\n",
    "%timeit np.mean(big_array); np.var(big_array)\n"
   ]
  },
  {
   "cell_type": "code",
   "execution_count": null,
   "id": "10",
   "metadata": {},
   "outputs": [],
   "source": []
  }
 ],
 "metadata": {
  "kernelspec": {
   "display_name": "Python 3.10 (python-a1)",
   "language": "python",
   "name": "python-a1"
  },
  "language_info": {
   "codemirror_mode": {
    "name": "ipython",
    "version": 3
   },
   "file_extension": ".py",
   "mimetype": "text/x-python",
   "name": "python",
   "nbconvert_exporter": "python",
   "pygments_lexer": "ipython3",
   "version": "3.12.3"
  }
 },
 "nbformat": 4,
 "nbformat_minor": 5
}
